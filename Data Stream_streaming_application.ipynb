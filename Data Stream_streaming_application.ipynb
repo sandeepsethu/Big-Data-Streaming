{
 "cells": [
  {
   "cell_type": "markdown",
   "metadata": {},
   "source": [
    "# ASSIGNMENT 2 B - SPARK STRUCTURED STREAMING\n",
    "### Sandeep Sethumadhavan\n",
    "### 30980283\n",
    "\n"
   ]
  },
  {
   "cell_type": "markdown",
   "metadata": {},
   "source": [
    "Importing required libraries and setting up environment"
   ]
  },
  {
   "cell_type": "code",
   "execution_count": 1,
   "metadata": {},
   "outputs": [],
   "source": [
    "import os\n",
    "os.environ['PYSPARK_SUBMIT_ARGS'] = '--packages org.apache.spark:spark-streaming-kafka-0-10_2.12:3.0.0,org.apache.spark:spark-sql-kafka-0-10_2.12:3.0.0 pyspark-shell'\n",
    "from pyspark import SparkConf\n",
    "from pyspark.sql import SparkSession\n",
    "from pyspark.sql.functions import col, decode, expr, explode, split\n",
    "from pyspark.sql import functions as F\n",
    "from pyspark.sql.functions import *\n",
    "from pyspark.sql.types import *\n",
    "from pyspark.sql.functions import regexp_replace, col\n",
    "from pyspark.sql.functions import udf\n",
    "from pyspark.sql.types import StringType\n",
    "import datetime as dt\n",
    "from datetime import datetime\n",
    "from pyspark.sql.functions import concat,col,lit\n",
    "from pyspark.ml import PipelineModel\n",
    "import calendar\n",
    "from datetime import timedelta"
   ]
  },
  {
   "cell_type": "markdown",
   "metadata": {},
   "source": [
    "Creating spark session using sparkconf object"
   ]
  },
  {
   "cell_type": "code",
   "execution_count": 2,
   "metadata": {},
   "outputs": [],
   "source": [
    "conf = SparkConf().setAppName(\"Spark Stream Assignment\").setMaster(\"local[2]\")\n",
    "spark = SparkSession.builder.config(conf = conf).getOrCreate()\n",
    "spark.conf.set(\"spark.sql.session.timeZone\", \"UTC\")"
   ]
  },
  {
   "cell_type": "markdown",
   "metadata": {},
   "source": [
    "Ingesting data from the kafka producers"
   ]
  },
  {
   "cell_type": "code",
   "execution_count": 3,
   "metadata": {},
   "outputs": [],
   "source": [
    "topic1 = \"Memory_Producer\"\n",
    "topic2 = \"Process_Producer\"\n",
    "\n",
    "#memory producer\n",
    "memory_stream = spark \\\n",
    "    .readStream \\\n",
    "    .format(\"kafka\") \\\n",
    "    .option(\"kafka.bootstrap.servers\", \"127.0.0.1:9092\") \\\n",
    "    .option(\"subscribe\", topic1) \\\n",
    "    .load()\n",
    "\n",
    "#process producer\n",
    "process_stream = spark \\\n",
    "    .readStream \\\n",
    "    .format(\"kafka\") \\\n",
    "    .option(\"kafka.bootstrap.servers\", \"127.0.0.1:9092\") \\\n",
    "    .option(\"subscribe\", topic2) \\\n",
    "    .load()"
   ]
  },
  {
   "cell_type": "markdown",
   "metadata": {},
   "source": [
    "Flattening the dataframe"
   ]
  },
  {
   "cell_type": "code",
   "execution_count": 4,
   "metadata": {},
   "outputs": [],
   "source": [
    "process_df = process_stream.selectExpr(\"CAST(key AS STRING) AS key_process\", \"CAST(value AS STRING) AS value_process\")\n",
    "memory_df= memory_stream.selectExpr(\"CAST(key AS STRING) AS key_memory\", \"CAST(value AS STRING) AS value_memory\")\n",
    "process_df = process_df.select(F.col(\"value_process\").cast(\"string\"))\n",
    "memory_df = memory_df.select(F.col(\"value_memory\").cast(\"string\"))"
   ]
  },
  {
   "cell_type": "markdown",
   "metadata": {},
   "source": [
    "Defining two schemas for data preprocessing before setting up the actual schema."
   ]
  },
  {
   "cell_type": "code",
   "execution_count": 5,
   "metadata": {},
   "outputs": [],
   "source": [
    "#Define the schema for the structured datastream received\n",
    "schema1 = ArrayType(StructType([    \n",
    "    StructField('sequence', StringType(), True), \n",
    "    StructField('machine', StringType(), True),\n",
    "    StructField('PID', StringType(), True),\n",
    "    StructField('TRUN', StringType(), True), \n",
    "    StructField('TSLPI', StringType(), True),\n",
    "    StructField('TSLPU', StringType(), True),\n",
    "    StructField('POLI', StringType(), True), \n",
    "    StructField('NICE', StringType(), True),\n",
    "    StructField('PRI', StringType(), True),\n",
    "    StructField('RTPR', StringType(), True), \n",
    "    StructField('CPUNR', StringType(), True),\n",
    "    StructField('Status', StringType(), True),\n",
    "    StructField('EXC', StringType(), True), \n",
    "    StructField('State', StringType(), True),\n",
    "    StructField('CPU', StringType(), True),\n",
    "    StructField('CMD', StringType(), True), \n",
    "    StructField('ts', IntegerType(), True),\n",
    "    \n",
    "]))\n",
    "\n",
    "#Define the schema for the structured datastream received\n",
    "schema2 = ArrayType(StructType([    \n",
    "    StructField('sequence', StringType(), True), \n",
    "    StructField('machine', StringType(), True),\n",
    "    StructField('PID', StringType(), True),\n",
    "    StructField('MINFLT', StringType(), True), \n",
    "    StructField('MAJFLT', StringType(), True),\n",
    "    StructField('VSTEXT', StringType(), True),\n",
    "    StructField('VSIZE', StringType(), True), \n",
    "    StructField('RSIZE', StringType(), True),\n",
    "    StructField('VGROW', StringType(), True),\n",
    "    StructField('RGROW', StringType(), True), \n",
    "    StructField('MEM', StringType(), True),\n",
    "    StructField('CMD', StringType(), True),\n",
    "    StructField('ts', IntegerType(), True)\n",
    "]))"
   ]
  },
  {
   "cell_type": "markdown",
   "metadata": {},
   "source": [
    "Flattening the dataframe again"
   ]
  },
  {
   "cell_type": "code",
   "execution_count": 6,
   "metadata": {},
   "outputs": [],
   "source": [
    "process_df = process_df.select(F.from_json(F.col(\"value_process\").cast(\"string\"), schema1).alias('parsed_value'))\n",
    "memory_df = memory_df.select(F.from_json(F.col(\"value_memory\").cast(\"string\"), schema2).alias('parsed_value'))\n",
    "process_df = process_df.select(F.explode(F.col(\"parsed_value\")).alias('unnested_value'))      \n",
    "memory_df = memory_df.select(F.explode(F.col(\"parsed_value\")).alias('unnested_value'))      \n",
    "\n",
    "#renaming the columns\n",
    "process_df_formatted = process_df.select(\n",
    "                    F.col(\"unnested_value.sequence\").alias(\"sequence\"),\n",
    "                    F.col(\"unnested_value.machine\").alias(\"machine\"),\n",
    "                    F.col(\"unnested_value.PID\").alias(\"PID\"),\n",
    "                    F.col(\"unnested_value.TRUN\").alias(\"TRUN\"),\n",
    "                    F.col(\"unnested_value.TSLPI\").alias(\"TSLPI\"),\n",
    "                    F.col(\"unnested_value.TSLPU\").alias(\"TSLPU\"),\n",
    "                    F.col(\"unnested_value.POLI\").alias(\"POLI\"),\n",
    "                    F.col(\"unnested_value.NICE\").alias(\"NICE\"),\n",
    "                    F.col(\"unnested_value.PRI\").alias(\"PRI\"),\n",
    "                    F.col(\"unnested_value.RTPR\").alias(\"RTPR\"),\n",
    "                    F.col(\"unnested_value.CPUNR\").alias(\"CPUNR\"),\n",
    "                    F.col(\"unnested_value.Status\").alias(\"Status\"),\n",
    "                    F.col(\"unnested_value.EXC\").alias(\"EXC\"),\n",
    "                    F.col(\"unnested_value.State\").alias(\"State\"),\n",
    "                    F.col(\"unnested_value.CPU\").alias(\"CPU\"),\n",
    "                    F.col(\"unnested_value.CMD\").alias(\"CMD\"),\n",
    "                    F.col(\"unnested_value.ts\").alias(\"ts\")\n",
    "                )\n",
    "\n",
    "#renaming the columns\n",
    "memory_df_formatted = memory_df.select(\n",
    "                    F.col(\"unnested_value.sequence\").alias(\"sequence\"),\n",
    "                    F.col(\"unnested_value.machine\").alias(\"machine\"),\n",
    "                    F.col(\"unnested_value.PID\").alias(\"PID\"),\n",
    "                    F.col(\"unnested_value.MINFLT\").alias(\"MINFLT\"),\n",
    "                    F.col(\"unnested_value.MAJFLT\").alias(\"MAJFLT\"),\n",
    "                    F.col(\"unnested_value.VSTEXT\").alias(\"VSTEXT\"),\n",
    "                    F.col(\"unnested_value.VSIZE\").alias(\"VSIZE\"),\n",
    "                    F.col(\"unnested_value.RSIZE\").alias(\"RSIZE\"),\n",
    "                    F.col(\"unnested_value.VGROW\").alias(\"VGROW\"),\n",
    "                    F.col(\"unnested_value.RGROW\").alias(\"RGROW\"),\n",
    "                    F.col(\"unnested_value.MEM\").alias(\"MEM\"),\n",
    "                    F.col(\"unnested_value.CMD\").alias(\"CMD\"),\n",
    "                    F.col(\"unnested_value.ts\").alias(\"ts\")\n",
    "                )"
   ]
  },
  {
   "cell_type": "markdown",
   "metadata": {},
   "source": [
    "Dataframe has been flattened and has the required column names. Now to preprocess the data before assigning the final schema"
   ]
  },
  {
   "cell_type": "code",
   "execution_count": 7,
   "metadata": {},
   "outputs": [
    {
     "name": "stdout",
     "output_type": "stream",
     "text": [
      "root\n",
      " |-- sequence: string (nullable = true)\n",
      " |-- machine: string (nullable = true)\n",
      " |-- PID: string (nullable = true)\n",
      " |-- MINFLT: string (nullable = true)\n",
      " |-- MAJFLT: string (nullable = true)\n",
      " |-- VSTEXT: string (nullable = true)\n",
      " |-- VSIZE: string (nullable = true)\n",
      " |-- RSIZE: string (nullable = true)\n",
      " |-- VGROW: string (nullable = true)\n",
      " |-- RGROW: string (nullable = true)\n",
      " |-- MEM: string (nullable = true)\n",
      " |-- CMD: string (nullable = true)\n",
      " |-- ts: integer (nullable = true)\n",
      "\n"
     ]
    }
   ],
   "source": [
    "memory_df_formatted.printSchema()"
   ]
  },
  {
   "cell_type": "code",
   "execution_count": 8,
   "metadata": {
    "scrolled": true
   },
   "outputs": [
    {
     "name": "stdout",
     "output_type": "stream",
     "text": [
      "root\n",
      " |-- sequence: string (nullable = true)\n",
      " |-- machine: string (nullable = true)\n",
      " |-- PID: string (nullable = true)\n",
      " |-- TRUN: string (nullable = true)\n",
      " |-- TSLPI: string (nullable = true)\n",
      " |-- TSLPU: string (nullable = true)\n",
      " |-- POLI: string (nullable = true)\n",
      " |-- NICE: string (nullable = true)\n",
      " |-- PRI: string (nullable = true)\n",
      " |-- RTPR: string (nullable = true)\n",
      " |-- CPUNR: string (nullable = true)\n",
      " |-- Status: string (nullable = true)\n",
      " |-- EXC: string (nullable = true)\n",
      " |-- State: string (nullable = true)\n",
      " |-- CPU: string (nullable = true)\n",
      " |-- CMD: string (nullable = true)\n",
      " |-- ts: integer (nullable = true)\n",
      "\n"
     ]
    }
   ],
   "source": [
    "process_df_formatted.printSchema()"
   ]
  },
  {
   "cell_type": "markdown",
   "metadata": {},
   "source": [
    "Creating user defined functions for cleaning the data"
   ]
  },
  {
   "cell_type": "code",
   "execution_count": 9,
   "metadata": {},
   "outputs": [],
   "source": [
    "spaceDeleteUDF = udf(lambda s: s.replace(\" \", \"\"), StringType()) # user defined function to remove white spaces.\n",
    "changekUDF = udf(lambda s: s.replace(\"K\", \"000\"), StringType()) # user defined function to change K to 000.\n",
    "changeMUDF = udf(lambda s: s.replace(\"M\", \"000000\"), StringType()) # user defined function to change M to 000000.\n",
    "changeGUDF = udf(lambda s: s.replace(\"G\", \"000000000\"), StringType()) # user defined function to change G to 000000000."
   ]
  },
  {
   "cell_type": "markdown",
   "metadata": {},
   "source": [
    "Executing the udf's on all the required columns"
   ]
  },
  {
   "cell_type": "code",
   "execution_count": 10,
   "metadata": {},
   "outputs": [],
   "source": [
    "process_df_formatted=process_df_formatted.withColumn(\"sequence\", spaceDeleteUDF(\"sequence\"))\n",
    "process_df_formatted=process_df_formatted.withColumn(\"PID\", spaceDeleteUDF(\"PID\"))\n",
    "process_df_formatted=process_df_formatted.withColumn(\"TRUN\", spaceDeleteUDF(\"TRUN\"))\n",
    "process_df_formatted=process_df_formatted.withColumn(\"TSLPI\", spaceDeleteUDF(\"TSLPI\"))\n",
    "process_df_formatted=process_df_formatted.withColumn(\"TSLPU\", spaceDeleteUDF(\"TSLPU\"))\n",
    "process_df_formatted=process_df_formatted.withColumn(\"NICE\", spaceDeleteUDF(\"NICE\"))\n",
    "process_df_formatted=process_df_formatted.withColumn(\"PRI\", spaceDeleteUDF(\"PRI\"))\n",
    "process_df_formatted=process_df_formatted.withColumn(\"RTPR\", spaceDeleteUDF(\"RTPR\"))\n",
    "process_df_formatted=process_df_formatted.withColumn(\"CPUNR\", spaceDeleteUDF(\"CPUNR\"))\n",
    "process_df_formatted=process_df_formatted.withColumn(\"EXC\", spaceDeleteUDF(\"EXC\"))\n",
    "process_df_formatted=process_df_formatted.withColumn(\"CPU\", spaceDeleteUDF(\"CPU\"))\n",
    "\n",
    "memory_df_formatted=memory_df_formatted.withColumn(\"VGROW\", spaceDeleteUDF(\"VGROW\"))\n",
    "memory_df_formatted=memory_df_formatted.withColumn(\"RGROW\", spaceDeleteUDF(\"RGROW\"))\n",
    "memory_df_formatted=memory_df_formatted.withColumn(\"RSIZE\", spaceDeleteUDF(\"RSIZE\"))\n",
    "memory_df_formatted=memory_df_formatted.withColumn(\"VSTEXT\", spaceDeleteUDF(\"VSTEXT\"))\n",
    "memory_df_formatted=memory_df_formatted.withColumn(\"MAJFLT\", spaceDeleteUDF(\"MAJFLT\"))\n",
    "memory_df_formatted=memory_df_formatted.withColumn(\"MINFLT\", spaceDeleteUDF(\"MINFLT\"))\n",
    "memory_df_formatted=memory_df_formatted.withColumn(\"sequence\", spaceDeleteUDF(\"sequence\"))\n",
    "memory_df_formatted=memory_df_formatted.withColumn(\"PID\", spaceDeleteUDF(\"PID\"))\n",
    "memory_df_formatted=memory_df_formatted.withColumn(\"VSIZE\", spaceDeleteUDF(\"VSIZE\"))\n",
    "memory_df_formatted=memory_df_formatted.withColumn(\"MEM\", spaceDeleteUDF(\"MEM\"))\n"
   ]
  },
  {
   "cell_type": "code",
   "execution_count": 11,
   "metadata": {},
   "outputs": [],
   "source": [
    "process_df_formatted=process_df_formatted.withColumn(\"sequence\", changekUDF(\"sequence\"))\n",
    "process_df_formatted=process_df_formatted.withColumn(\"PID\", changekUDF(\"PID\"))\n",
    "process_df_formatted=process_df_formatted.withColumn(\"TRUN\", changekUDF(\"TRUN\"))\n",
    "process_df_formatted=process_df_formatted.withColumn(\"TSLPI\", changekUDF(\"TSLPI\"))\n",
    "process_df_formatted=process_df_formatted.withColumn(\"TSLPU\", changekUDF(\"TSLPU\"))\n",
    "process_df_formatted=process_df_formatted.withColumn(\"NICE\", changekUDF(\"NICE\"))\n",
    "process_df_formatted=process_df_formatted.withColumn(\"PRI\", changekUDF(\"PRI\"))\n",
    "process_df_formatted=process_df_formatted.withColumn(\"RTPR\", changekUDF(\"RTPR\"))\n",
    "process_df_formatted=process_df_formatted.withColumn(\"CPUNR\", changekUDF(\"CPUNR\"))\n",
    "process_df_formatted=process_df_formatted.withColumn(\"EXC\", changekUDF(\"EXC\"))\n",
    "process_df_formatted=process_df_formatted.withColumn(\"CPU\", changekUDF(\"CPU\"))\n",
    "\n",
    "memory_df_formatted=memory_df_formatted.withColumn(\"VGROW\", changekUDF(\"VGROW\"))\n",
    "memory_df_formatted=memory_df_formatted.withColumn(\"RGROW\", changekUDF(\"RGROW\"))\n",
    "memory_df_formatted=memory_df_formatted.withColumn(\"RSIZE\", changekUDF(\"RSIZE\"))\n",
    "memory_df_formatted=memory_df_formatted.withColumn(\"VSTEXT\", changekUDF(\"VSTEXT\"))\n",
    "memory_df_formatted=memory_df_formatted.withColumn(\"MAJFLT\", changekUDF(\"MAJFLT\"))\n",
    "memory_df_formatted=memory_df_formatted.withColumn(\"MINFLT\", changekUDF(\"MINFLT\"))\n",
    "memory_df_formatted=memory_df_formatted.withColumn(\"sequence\", changekUDF(\"sequence\"))\n",
    "memory_df_formatted=memory_df_formatted.withColumn(\"PID\", changekUDF(\"PID\"))\n",
    "memory_df_formatted=memory_df_formatted.withColumn(\"VSIZE\", changekUDF(\"VSIZE\"))\n",
    "memory_df_formatted=memory_df_formatted.withColumn(\"MEM\", changekUDF(\"MEM\"))\n"
   ]
  },
  {
   "cell_type": "code",
   "execution_count": 12,
   "metadata": {},
   "outputs": [],
   "source": [
    "process_df_formatted=process_df_formatted.withColumn(\"sequence\", changeMUDF(\"sequence\"))\n",
    "process_df_formatted=process_df_formatted.withColumn(\"PID\", changeMUDF(\"PID\"))\n",
    "process_df_formatted=process_df_formatted.withColumn(\"TRUN\", changeMUDF(\"TRUN\"))\n",
    "process_df_formatted=process_df_formatted.withColumn(\"TSLPI\", changeMUDF(\"TSLPI\"))\n",
    "process_df_formatted=process_df_formatted.withColumn(\"TSLPU\", changeMUDF(\"TSLPU\"))\n",
    "process_df_formatted=process_df_formatted.withColumn(\"NICE\", changeMUDF(\"NICE\"))\n",
    "process_df_formatted=process_df_formatted.withColumn(\"PRI\", changeMUDF(\"PRI\"))\n",
    "process_df_formatted=process_df_formatted.withColumn(\"RTPR\", changeMUDF(\"RTPR\"))\n",
    "process_df_formatted=process_df_formatted.withColumn(\"CPUNR\", changeMUDF(\"CPUNR\"))\n",
    "process_df_formatted=process_df_formatted.withColumn(\"EXC\", changeMUDF(\"EXC\"))\n",
    "process_df_formatted=process_df_formatted.withColumn(\"CPU\", changeMUDF(\"CPU\"))\n",
    "\n",
    "memory_df_formatted=memory_df_formatted.withColumn(\"VGROW\", changeMUDF(\"VGROW\"))\n",
    "memory_df_formatted=memory_df_formatted.withColumn(\"RGROW\", changeMUDF(\"RGROW\"))\n",
    "memory_df_formatted=memory_df_formatted.withColumn(\"RSIZE\", changeMUDF(\"RSIZE\"))\n",
    "memory_df_formatted=memory_df_formatted.withColumn(\"VSTEXT\", changeMUDF(\"VSTEXT\"))\n",
    "memory_df_formatted=memory_df_formatted.withColumn(\"MAJFLT\", changeMUDF(\"MAJFLT\"))\n",
    "memory_df_formatted=memory_df_formatted.withColumn(\"MINFLT\", changeMUDF(\"MINFLT\"))\n",
    "memory_df_formatted=memory_df_formatted.withColumn(\"sequence\", changeMUDF(\"sequence\"))\n",
    "memory_df_formatted=memory_df_formatted.withColumn(\"PID\", changeMUDF(\"PID\"))\n",
    "memory_df_formatted=memory_df_formatted.withColumn(\"VSIZE\", changeMUDF(\"VSIZE\"))\n",
    "memory_df_formatted=memory_df_formatted.withColumn(\"MEM\", changeMUDF(\"MEM\"))\n"
   ]
  },
  {
   "cell_type": "code",
   "execution_count": 13,
   "metadata": {},
   "outputs": [],
   "source": [
    "process_df_formatted=process_df_formatted.withColumn(\"sequence\", changeGUDF(\"sequence\"))\n",
    "process_df_formatted=process_df_formatted.withColumn(\"PID\", changeGUDF(\"PID\"))\n",
    "process_df_formatted=process_df_formatted.withColumn(\"TRUN\", changeGUDF(\"TRUN\"))\n",
    "process_df_formatted=process_df_formatted.withColumn(\"TSLPI\", changeGUDF(\"TSLPI\"))\n",
    "process_df_formatted=process_df_formatted.withColumn(\"TSLPU\", changeGUDF(\"TSLPU\"))\n",
    "process_df_formatted=process_df_formatted.withColumn(\"NICE\", changeGUDF(\"NICE\"))\n",
    "process_df_formatted=process_df_formatted.withColumn(\"PRI\", changeGUDF(\"PRI\"))\n",
    "process_df_formatted=process_df_formatted.withColumn(\"RTPR\", changeGUDF(\"RTPR\"))\n",
    "process_df_formatted=process_df_formatted.withColumn(\"CPUNR\", changeGUDF(\"CPUNR\"))\n",
    "process_df_formatted=process_df_formatted.withColumn(\"EXC\", changeGUDF(\"EXC\"))\n",
    "process_df_formatted=process_df_formatted.withColumn(\"CPU\", changeGUDF(\"CPU\"))\n",
    "\n",
    "memory_df_formatted=memory_df_formatted.withColumn(\"VGROW\", changeGUDF(\"VGROW\"))\n",
    "memory_df_formatted=memory_df_formatted.withColumn(\"RGROW\", changeGUDF(\"RGROW\"))\n",
    "memory_df_formatted=memory_df_formatted.withColumn(\"RSIZE\", changeGUDF(\"RSIZE\"))\n",
    "memory_df_formatted=memory_df_formatted.withColumn(\"VSTEXT\", changeGUDF(\"VSTEXT\"))\n",
    "memory_df_formatted=memory_df_formatted.withColumn(\"MAJFLT\", changeGUDF(\"MAJFLT\"))\n",
    "memory_df_formatted=memory_df_formatted.withColumn(\"MINFLT\", changeGUDF(\"MINFLT\"))\n",
    "memory_df_formatted=memory_df_formatted.withColumn(\"sequence\", changeGUDF(\"sequence\"))\n",
    "memory_df_formatted=memory_df_formatted.withColumn(\"PID\", changeGUDF(\"PID\"))\n",
    "memory_df_formatted=memory_df_formatted.withColumn(\"VSIZE\", changeGUDF(\"VSIZE\"))\n",
    "memory_df_formatted=memory_df_formatted.withColumn(\"MEM\", changeGUDF(\"MEM\"))\n",
    "\n"
   ]
  },
  {
   "cell_type": "markdown",
   "metadata": {},
   "source": [
    "Now transforming data into the required schema"
   ]
  },
  {
   "cell_type": "code",
   "execution_count": 16,
   "metadata": {},
   "outputs": [],
   "source": [
    "#for process\n",
    "process_df_formatted = process_df_formatted.withColumn(\"sequence\", process_df_formatted[\"sequence\"].cast(IntegerType()))\n",
    "process_df_formatted = process_df_formatted.withColumn(\"machine\", process_df_formatted[\"machine\"].cast(IntegerType()))\n",
    "process_df_formatted = process_df_formatted.withColumn(\"PID\", process_df_formatted[\"PID\"].cast(IntegerType()))\n",
    "process_df_formatted = process_df_formatted.withColumn(\"TRUN\", process_df_formatted[\"TRUN\"].cast(IntegerType()))\n",
    "process_df_formatted = process_df_formatted.withColumn(\"TSLPI\", process_df_formatted[\"TSLPI\"].cast(IntegerType()))\n",
    "process_df_formatted = process_df_formatted.withColumn(\"TSLPU\", process_df_formatted[\"TSLPU\"].cast(IntegerType()))\n",
    "process_df_formatted = process_df_formatted.withColumn(\"POLI\", process_df_formatted[\"POLI\"].cast(StringType()))\n",
    "process_df_formatted = process_df_formatted.withColumn(\"NICE\", process_df_formatted[\"NICE\"].cast(IntegerType()))\n",
    "process_df_formatted = process_df_formatted.withColumn(\"PRI\", process_df_formatted[\"PRI\"].cast(IntegerType()))\n",
    "process_df_formatted = process_df_formatted.withColumn(\"RTPR\", process_df_formatted[\"RTPR\"].cast(IntegerType()))\n",
    "process_df_formatted = process_df_formatted.withColumn(\"CPUNR\", process_df_formatted[\"CPUNR\"].cast(IntegerType()))\n",
    "process_df_formatted = process_df_formatted.withColumn(\"Status\", process_df_formatted[\"Status\"].cast(StringType()))\n",
    "process_df_formatted = process_df_formatted.withColumn(\"EXC\", process_df_formatted[\"EXC\"].cast(IntegerType()))\n",
    "process_df_formatted = process_df_formatted.withColumn(\"State\", process_df_formatted[\"State\"].cast(StringType()))\n",
    "process_df_formatted = process_df_formatted.withColumn(\"CPU\", process_df_formatted[\"CPU\"].cast(DoubleType()))\n",
    "process_df_formatted = process_df_formatted.withColumn(\"CMD\", process_df_formatted[\"CMD\"].cast(StringType()))\n",
    "process_df_formatted = process_df_formatted.withColumn(\"ts\", process_df_formatted[\"ts\"].cast(IntegerType()))\n",
    "\n",
    "#for memory\n",
    "memory_df_formatted = memory_df_formatted.withColumn(\"sequence\", memory_df_formatted[\"sequence\"].cast(IntegerType()))\n",
    "memory_df_formatted = memory_df_formatted.withColumn(\"machine\", memory_df_formatted[\"machine\"].cast(IntegerType()))\n",
    "memory_df_formatted = memory_df_formatted.withColumn(\"PID\", memory_df_formatted[\"PID\"].cast(IntegerType()))\n",
    "memory_df_formatted = memory_df_formatted.withColumn(\"MINFLT\", memory_df_formatted[\"MINFLT\"].cast(IntegerType()))\n",
    "memory_df_formatted = memory_df_formatted.withColumn(\"MAJFLT\", memory_df_formatted[\"MAJFLT\"].cast(IntegerType()))\n",
    "memory_df_formatted = memory_df_formatted.withColumn(\"VSTEXT\", memory_df_formatted[\"VSTEXT\"].cast(IntegerType()))\n",
    "memory_df_formatted = memory_df_formatted.withColumn(\"VSIZE\", memory_df_formatted[\"VSIZE\"].cast(DoubleType()))\n",
    "memory_df_formatted = memory_df_formatted.withColumn(\"RSIZE\", memory_df_formatted[\"RSIZE\"].cast(DoubleType()))\n",
    "memory_df_formatted = memory_df_formatted.withColumn(\"VGROW\", memory_df_formatted[\"VGROW\"].cast(DoubleType()))\n",
    "memory_df_formatted = memory_df_formatted.withColumn(\"RGROW\", memory_df_formatted[\"RGROW\"].cast(DoubleType()))\n",
    "memory_df_formatted = memory_df_formatted.withColumn(\"MEM\", memory_df_formatted[\"MEM\"].cast(DoubleType()))\n",
    "memory_df_formatted = memory_df_formatted.withColumn(\"CMD\", memory_df_formatted[\"CMD\"].cast(StringType()))\n",
    "memory_df_formatted = memory_df_formatted.withColumn(\"ts\", memory_df_formatted[\"ts\"].cast(IntegerType()))"
   ]
  },
  {
   "cell_type": "markdown",
   "metadata": {},
   "source": [
    "Updating NICE according to value of PRI"
   ]
  },
  {
   "cell_type": "code",
   "execution_count": 17,
   "metadata": {},
   "outputs": [],
   "source": [
    "process_df_formatted=process_df_formatted.withColumn(\"NICE\", col(\"PRI\")-120)"
   ]
  },
  {
   "cell_type": "markdown",
   "metadata": {},
   "source": [
    "Now querying the created dataframes to see the output"
   ]
  },
  {
   "cell_type": "code",
   "execution_count": 18,
   "metadata": {},
   "outputs": [],
   "source": [
    "query = memory_df_formatted \\\n",
    "    .writeStream \\\n",
    "    .outputMode(\"append\") \\\n",
    "    .format(\"console\") \\\n",
    "    .trigger(processingTime='5 seconds') \\\n",
    "    .start()"
   ]
  },
  {
   "cell_type": "code",
   "execution_count": 19,
   "metadata": {},
   "outputs": [],
   "source": [
    "query.stop()"
   ]
  },
  {
   "cell_type": "code",
   "execution_count": 20,
   "metadata": {},
   "outputs": [],
   "source": [
    "query = process_df_formatted \\\n",
    "    .writeStream \\\n",
    "    .outputMode(\"append\") \\\n",
    "    .format(\"console\") \\\n",
    "    .trigger(processingTime='5 seconds') \\\n",
    "    .start()"
   ]
  },
  {
   "cell_type": "code",
   "execution_count": 21,
   "metadata": {},
   "outputs": [],
   "source": [
    "query.stop()"
   ]
  },
  {
   "cell_type": "markdown",
   "metadata": {},
   "source": [
    "Checking the dataframes' schema and they follow requirements"
   ]
  },
  {
   "cell_type": "code",
   "execution_count": 22,
   "metadata": {
    "scrolled": true
   },
   "outputs": [
    {
     "name": "stdout",
     "output_type": "stream",
     "text": [
      "root\n",
      " |-- sequence: integer (nullable = true)\n",
      " |-- machine: integer (nullable = true)\n",
      " |-- PID: integer (nullable = true)\n",
      " |-- TRUN: integer (nullable = true)\n",
      " |-- TSLPI: integer (nullable = true)\n",
      " |-- TSLPU: integer (nullable = true)\n",
      " |-- POLI: string (nullable = true)\n",
      " |-- NICE: integer (nullable = true)\n",
      " |-- PRI: integer (nullable = true)\n",
      " |-- RTPR: integer (nullable = true)\n",
      " |-- CPUNR: integer (nullable = true)\n",
      " |-- Status: string (nullable = true)\n",
      " |-- EXC: integer (nullable = true)\n",
      " |-- State: string (nullable = true)\n",
      " |-- CPU: double (nullable = true)\n",
      " |-- CMD: string (nullable = true)\n",
      " |-- ts: integer (nullable = true)\n",
      "\n",
      "root\n",
      " |-- sequence: integer (nullable = true)\n",
      " |-- machine: integer (nullable = true)\n",
      " |-- PID: integer (nullable = true)\n",
      " |-- MINFLT: integer (nullable = true)\n",
      " |-- MAJFLT: integer (nullable = true)\n",
      " |-- VSTEXT: integer (nullable = true)\n",
      " |-- VSIZE: double (nullable = true)\n",
      " |-- RSIZE: double (nullable = true)\n",
      " |-- VGROW: double (nullable = true)\n",
      " |-- RGROW: double (nullable = true)\n",
      " |-- MEM: double (nullable = true)\n",
      " |-- CMD: string (nullable = true)\n",
      " |-- ts: integer (nullable = true)\n",
      "\n"
     ]
    }
   ],
   "source": [
    "process_df_formatted.printSchema()\n",
    "memory_df_formatted.printSchema()"
   ]
  },
  {
   "cell_type": "markdown",
   "metadata": {},
   "source": [
    "Creating new column CMD_PID"
   ]
  },
  {
   "cell_type": "code",
   "execution_count": 23,
   "metadata": {},
   "outputs": [],
   "source": [
    "process_df_formatted=process_df_formatted.withColumn('CMD_PID', concat(col(\"CMD\"), lit(\"_\"), col(\"PID\")))\n",
    "memory_df_formatted=memory_df_formatted.withColumn('CMD_PID', concat(col(\"CMD\"), lit(\"_\"), col(\"PID\")))"
   ]
  },
  {
   "cell_type": "markdown",
   "metadata": {},
   "source": [
    "Creating new column event_time "
   ]
  },
  {
   "cell_type": "code",
   "execution_count": 24,
   "metadata": {},
   "outputs": [],
   "source": [
    "process_df_formatted=process_df_formatted.withColumn('event_time',col(\"ts\") )\n",
    "memory_df_formatted=memory_df_formatted.withColumn('event_time', col(\"ts\") )\n",
    "\n",
    "#converting from unix timestamp to UTC date time\n",
    "process_df_formatted=process_df_formatted.withColumn('event_time', F.from_unixtime('ts').cast(TimestampType()))\n",
    "\n",
    "memory_df_formatted=memory_df_formatted.withColumn('event_time', F.from_unixtime('ts').cast(TimestampType()))\n"
   ]
  },
  {
   "cell_type": "markdown",
   "metadata": {},
   "source": [
    "Allowing 20 second delay on event_time using watermark"
   ]
  },
  {
   "cell_type": "code",
   "execution_count": 25,
   "metadata": {},
   "outputs": [],
   "source": [
    "process_df_formatted = process_df_formatted.withWatermark(\"event_time\", \"20 seconds\")  #late arrivals up to 20 seconds allowed\n",
    "\n",
    "memory_df_formatted = memory_df_formatted.withWatermark(\"event_time\", \"20 seconds\")  #late arrivals up to 20 seconds allowed\n"
   ]
  },
  {
   "cell_type": "markdown",
   "metadata": {},
   "source": [
    "Now querying the updated dataframes to see the output"
   ]
  },
  {
   "cell_type": "code",
   "execution_count": 26,
   "metadata": {},
   "outputs": [],
   "source": [
    "query = process_df_formatted \\\n",
    "    .writeStream \\\n",
    "    .outputMode(\"append\") \\\n",
    "    .format(\"console\") \\\n",
    "    .trigger(processingTime='5 seconds') \\\n",
    "    .start()"
   ]
  },
  {
   "cell_type": "code",
   "execution_count": 27,
   "metadata": {},
   "outputs": [],
   "source": [
    "query.stop()"
   ]
  },
  {
   "cell_type": "code",
   "execution_count": 28,
   "metadata": {},
   "outputs": [],
   "source": [
    "query = memory_df_formatted \\\n",
    "    .writeStream \\\n",
    "    .outputMode(\"append\") \\\n",
    "    .format(\"console\") \\\n",
    "    .trigger(processingTime='5 seconds') \\\n",
    "    .start()"
   ]
  },
  {
   "cell_type": "code",
   "execution_count": 29,
   "metadata": {},
   "outputs": [],
   "source": [
    "query.stop()"
   ]
  },
  {
   "cell_type": "markdown",
   "metadata": {
    "scrolled": true
   },
   "source": [
    "Persisting into memory using parquets"
   ]
  },
  {
   "cell_type": "code",
   "execution_count": 30,
   "metadata": {},
   "outputs": [],
   "source": [
    "# Write into parquet files for process\n",
    "process_parquet = process_df_formatted.writeStream.format(\"parquet\")\\\n",
    "        .outputMode(\"append\")\\\n",
    "        .option(\"path\", \"process.parquet\")\\\n",
    "        .option(\"checkpointLocation\", \"process.parquet/checkpoint\")\\\n",
    "        .start()"
   ]
  },
  {
   "cell_type": "code",
   "execution_count": 31,
   "metadata": {},
   "outputs": [],
   "source": [
    "process_parquet.stop()"
   ]
  },
  {
   "cell_type": "code",
   "execution_count": 32,
   "metadata": {},
   "outputs": [],
   "source": [
    "# Write into parquet files for memory\n",
    "memory_parquet = memory_df_formatted.writeStream.format(\"parquet\")\\\n",
    "        .outputMode(\"append\")\\\n",
    "        .option(\"path\", \"memory.parquet\")\\\n",
    "        .option(\"checkpointLocation\", \"memory.parquet/checkpoint\")\\\n",
    "        .start()"
   ]
  },
  {
   "cell_type": "code",
   "execution_count": 33,
   "metadata": {},
   "outputs": [],
   "source": [
    "memory_parquet.stop()"
   ]
  },
  {
   "cell_type": "markdown",
   "metadata": {},
   "source": [
    "Loading the parquet data"
   ]
  },
  {
   "cell_type": "code",
   "execution_count": 34,
   "metadata": {
    "scrolled": true
   },
   "outputs": [
    {
     "name": "stdout",
     "output_type": "stream",
     "text": [
      "root\n",
      " |-- sequence: integer (nullable = true)\n",
      " |-- machine: integer (nullable = true)\n",
      " |-- PID: integer (nullable = true)\n",
      " |-- TRUN: integer (nullable = true)\n",
      " |-- TSLPI: integer (nullable = true)\n",
      " |-- TSLPU: integer (nullable = true)\n",
      " |-- POLI: string (nullable = true)\n",
      " |-- NICE: integer (nullable = true)\n",
      " |-- PRI: integer (nullable = true)\n",
      " |-- RTPR: integer (nullable = true)\n",
      " |-- CPUNR: integer (nullable = true)\n",
      " |-- Status: string (nullable = true)\n",
      " |-- EXC: integer (nullable = true)\n",
      " |-- State: string (nullable = true)\n",
      " |-- CPU: double (nullable = true)\n",
      " |-- CMD: string (nullable = true)\n",
      " |-- ts: integer (nullable = true)\n",
      " |-- CMD_PID: string (nullable = true)\n",
      " |-- event_time: timestamp (nullable = true)\n",
      "\n",
      "+--------+-------+-----+----+-----+-----+----+----+---+----+-----+------+---+-----+----+--------------+----------+-------------------+-------------------+\n",
      "|sequence|machine|  PID|TRUN|TSLPI|TSLPU|POLI|NICE|PRI|RTPR|CPUNR|Status|EXC|State| CPU|           CMD|        ts|            CMD_PID|         event_time|\n",
      "+--------+-------+-----+----+-----+-----+----+----+---+----+-----+------+---+-----+----+--------------+----------+-------------------+-------------------+\n",
      "|     399|      6| 2426|   0|    1|    0|norm|   0|120|   0|    0|     0|  0|    S| 0.0|   dbus-daemon|1604298198|   dbus-daemon_2426|2020-11-02 06:23:18|\n",
      "|     400|      6| 1424|   0|    1|    0|norm|   0|120|   0|    0|     0|  0|    S| 0.0|    irqbalance|1604298198|    irqbalance_1424|2020-11-02 06:23:18|\n",
      "|     401|      6| 2504|   0|    1|    0|norm|   0|120|   0|    0|     0|  0|    S| 0.0|upstart-dbus-b|1604298198|upstart-dbus-b_2504|2020-11-02 06:23:18|\n",
      "|     402|      6| 3147|   1|   12|    0|norm|   0|120|   0|    1|     0|  0|    S| 1.0|         drone|1604298198|         drone_3147|2020-11-02 06:23:18|\n",
      "|     403|      6| 3144|   0|    3|    0|norm|   0|120|   0|    0|     0|  0|    S|0.01|      ostinato|1604298198|      ostinato_3144|2020-11-02 06:23:18|\n",
      "|     404|      6|52886|   0|    1|    0|norm| -20|100|   0|    2|     0|  0|    S|0.01|          atop|1604298198|         atop_52886|2020-11-02 06:23:18|\n",
      "|     405|      6| 3279|   0|    1|    0|norm| -20|100|   0|    0|     0|  0|    S|0.01|          atop|1604298198|          atop_3279|2020-11-02 06:23:18|\n",
      "|     406|      6| 3281|   0|    1|    0|norm| -20|100|   0|    1|     0|  0|    S|0.01|          atop|1604298198|          atop_3281|2020-11-02 06:23:18|\n",
      "|     407|      6|52887|   0|    1|    0|norm| -20|100|   0|    1|     0|  0|    S|0.01|          atop|1604298198|         atop_52887|2020-11-02 06:23:18|\n",
      "|     408|      6|52885|   1|    0|    0|norm| -20|100|   0|    0|     0|  0|    R|0.01|          atop|1604298198|         atop_52885|2020-11-02 06:23:18|\n",
      "|     409|      6| 3282|   0|    1|    0|norm| -20|100|   0|    1|     0|  0|    S|0.01|          atop|1604298198|          atop_3282|2020-11-02 06:23:18|\n",
      "|     410|      6| 3280|   0|    1|    0|norm| -20|100|   0|    1|     0|  0|    S|0.01|          atop|1604298198|          atop_3280|2020-11-02 06:23:18|\n",
      "|     411|      6|52888|   0|    1|    0|norm| -20|100|   0|    0|     0|  0|    S|0.01|          atop|1604298198|         atop_52888|2020-11-02 06:23:18|\n",
      "|     412|      6| 1494|   0|    1|    0|norm|   0|120|   0|    0|     0|  0|    S| 0.0|          Xorg|1604298198|          Xorg_1494|2020-11-02 06:23:18|\n",
      "|     413|      6| 2766|   0|    8|    0|norm|   0|120|   0|    0|     0|  0|    S| 0.0|        compiz|1604298198|        compiz_2766|2020-11-02 06:23:18|\n",
      "|     414|      6| 2531|   0|    4|    0|norm|   0|120|   0|    0|     0|  0|    S| 0.0|   hud-service|1604298198|   hud-service_2531|2020-11-02 06:23:18|\n",
      "|     415|      6| 2544|   0|    3|    0|norm|   0|120|   0|    2|     0|  0|    S| 0.0|unity-panel-se|1604298198|unity-panel-se_2544|2020-11-02 06:23:18|\n",
      "|     416|      6| 2807|   0|    3|    0|norm|   0|120|   0|    2|     0|  0|    S| 0.0|      vmtoolsd|1604298198|      vmtoolsd_2807|2020-11-02 06:23:18|\n",
      "|     417|      6| 1651|   0|    1|    0|norm|   0|120|   0|    1|     0|  0|    S| 0.0|      knetatop|1604298198|      knetatop_1651|2020-11-02 06:23:18|\n",
      "|     418|      6| 2791|   0|    5|    0|norm|   0|120|   0|    0|     0|  0|    S| 0.0|      nautilus|1604298198|      nautilus_2791|2020-11-02 06:23:18|\n",
      "+--------+-------+-----+----+-----+-----+----+----+---+----+-----+------+---+-----+----+--------------+----------+-------------------+-------------------+\n",
      "only showing top 20 rows\n",
      "\n"
     ]
    }
   ],
   "source": [
    "# Read the saved parquet data for process\n",
    "process_parquet_df = spark.read.parquet(\"process.parquet\")\n",
    "process_parquet_df.printSchema()\n",
    "process_parquet_df.show()"
   ]
  },
  {
   "cell_type": "code",
   "execution_count": 35,
   "metadata": {
    "scrolled": true
   },
   "outputs": [
    {
     "name": "stdout",
     "output_type": "stream",
     "text": [
      "root\n",
      " |-- sequence: integer (nullable = true)\n",
      " |-- machine: integer (nullable = true)\n",
      " |-- PID: integer (nullable = true)\n",
      " |-- MINFLT: integer (nullable = true)\n",
      " |-- MAJFLT: integer (nullable = true)\n",
      " |-- VSTEXT: integer (nullable = true)\n",
      " |-- VSIZE: double (nullable = true)\n",
      " |-- RSIZE: double (nullable = true)\n",
      " |-- VGROW: double (nullable = true)\n",
      " |-- RGROW: double (nullable = true)\n",
      " |-- MEM: double (nullable = true)\n",
      " |-- CMD: string (nullable = true)\n",
      " |-- ts: integer (nullable = true)\n",
      " |-- CMD_PID: string (nullable = true)\n",
      " |-- event_time: timestamp (nullable = true)\n",
      "\n",
      "+--------+-------+-----+------+------+------+-------+-------+-----+-----+----+--------------+----------+--------------------+-------------------+\n",
      "|sequence|machine|  PID|MINFLT|MAJFLT|VSTEXT|  VSIZE|  RSIZE|VGROW|RGROW| MEM|           CMD|        ts|             CMD_PID|         event_time|\n",
      "+--------+-------+-----+------+------+------+-------+-------+-----+-----+----+--------------+----------+--------------------+-------------------+\n",
      "|    1086|      6| 3147|     0|     0|   978|    3.1|23028.0|  0.0|  0.0|0.01|         drone|1604298255|          drone_3147|2020-11-02 06:24:15|\n",
      "|    1087|      6| 2807|     0|     0|    36|  381.1| 9396.0|  0.0|  0.0| 0.0|      vmtoolsd|1604298255|       vmtoolsd_2807|2020-11-02 06:24:15|\n",
      "|    1088|      6| 3280|  1988|     0|   148|18604.0| 3532.0|  0.0|  0.0| 0.0|          atop|1604298255|           atop_3280|2020-11-02 06:24:15|\n",
      "|    1089|      6|52887|  2064|     0|   148|17884.0| 2716.0|  0.0|  0.0| 0.0|          atop|1604298255|          atop_52887|2020-11-02 06:24:15|\n",
      "|    1090|      6| 2504|     0|     0|   121|22408.0|  616.0|  0.0|  0.0| 0.0|upstart-dbus-b|1604298255| upstart-dbus-b_2504|2020-11-02 06:24:15|\n",
      "|    1091|      6|52937|     0|     0|     0|    0.0|    0.0|  0.0|  0.0| 0.0|kworker/u256:0|1604298255|kworker/u256:0_52937|2020-11-02 06:24:15|\n",
      "|    1092|      6| 1495|     0|     0|   531|  422.8|65492.0|  0.0|  0.0|0.02|         named|1604298255|          named_1495|2020-11-02 06:24:15|\n",
      "|    1093|      6| 1400|    19|     0|    47|  505.2| 4388.0|  0.0|  0.0| 0.0|      whoopsie|1604298255|       whoopsie_1400|2020-11-02 06:24:15|\n",
      "|    1094|      6| 1950|     0|     0|   149|  233.8| 3720.0|  0.0|  0.0| 0.0|       upowerd|1604298255|        upowerd_1950|2020-11-02 06:24:15|\n",
      "|    1095|      6| 1424|     4|     0|    36|19296.0|  688.0|  0.0|  0.0| 0.0|    irqbalance|1604298255|     irqbalance_1424|2020-11-02 06:24:15|\n",
      "|    1096|      6| 2531|     5|     0|   589|  663.8|51160.0|  0.0|  0.0|0.01|   hud-service|1604298255|    hud-service_2531|2020-11-02 06:24:15|\n",
      "|    1097|      6| 2784|     0|     0|     4|  857.6|43788.0|  0.0|  0.0|0.01|evolution-cale|1604298255| evolution-cale_2784|2020-11-02 06:24:15|\n",
      "|    1098|      6| 3147|     0|     0|   978|    3.1|23028.0|  0.0|  0.0|0.01|         drone|1604298255|          drone_3147|2020-11-02 06:24:15|\n",
      "|    1099|      6| 2788|     0|     0|   297|  718.3|16144.0|  0.0|  0.0| 0.0|     nm-applet|1604298255|      nm-applet_2788|2020-11-02 06:24:15|\n",
      "|    1100|      6|52942|     0|     0|    66|  538.8|14488.0|  0.0|  0.0| 0.0|unity-panel-se|1604298255|unity-panel-se_52942|2020-11-02 06:24:15|\n",
      "|    1101|      6| 2692|     0|     0|    35|  280.1| 8892.0|  0.0|  0.0| 0.0|indicator-appl|1604298255| indicator-appl_2692|2020-11-02 06:24:15|\n",
      "|    1102|      6| 2835|     0|     0|   350|  315.3| 6592.0|  0.0|  0.0| 0.0|mission-contro|1604298255| mission-contro_2835|2020-11-02 06:24:15|\n",
      "|    1103|      6| 2544|     0|     0|    66|  627.5|19856.0|  0.0|  0.0|0.01|unity-panel-se|1604298255| unity-panel-se_2544|2020-11-02 06:24:15|\n",
      "|    1104|      6| 3280|  1991|     0|   148|18604.0| 3532.0|  0.0|  0.0| 0.0|          atop|1604298255|           atop_3280|2020-11-02 06:24:15|\n",
      "|    1105|      6|52887|  1965|     0|   148|17884.0| 2716.0|  4.0|  0.0| 0.0|          atop|1604298255|          atop_52887|2020-11-02 06:24:15|\n",
      "+--------+-------+-----+------+------+------+-------+-------+-----+-----+----+--------------+----------+--------------------+-------------------+\n",
      "only showing top 20 rows\n",
      "\n"
     ]
    }
   ],
   "source": [
    "# Read the saved parquet data for memory\n",
    "memory_parquet_df = spark.read.parquet(\"memory.parquet\")\n",
    "memory_parquet_df.printSchema()\n",
    "memory_parquet_df.show()"
   ]
  },
  {
   "cell_type": "markdown",
   "metadata": {},
   "source": [
    "Loading the machine learning models to predict "
   ]
  },
  {
   "cell_type": "code",
   "execution_count": 36,
   "metadata": {},
   "outputs": [],
   "source": [
    "#Loading the Pipeline Model From the filesystem\n",
    "\n",
    "process_pipelineModel = PipelineModel.load('process_pipeline_model')\n",
    "\n",
    "memory_pipelineModel = PipelineModel.load('memory_pipeline_model')\n"
   ]
  },
  {
   "cell_type": "markdown",
   "metadata": {},
   "source": [
    "Predicting for both process and memory"
   ]
  },
  {
   "cell_type": "code",
   "execution_count": 37,
   "metadata": {},
   "outputs": [],
   "source": [
    "process_predictions=process_pipelineModel.transform(process_df_formatted)\n",
    "memory_predictions=memory_pipelineModel.transform(memory_df_formatted)"
   ]
  },
  {
   "cell_type": "markdown",
   "metadata": {},
   "source": [
    "Viewing predictions in real time in the console"
   ]
  },
  {
   "cell_type": "code",
   "execution_count": 38,
   "metadata": {},
   "outputs": [],
   "source": [
    "query = process_predictions \\\n",
    "    .writeStream \\\n",
    "    .outputMode(\"append\") \\\n",
    "    .format(\"console\") \\\n",
    "    .trigger(processingTime='5 seconds') \\\n",
    "    .start()"
   ]
  },
  {
   "cell_type": "code",
   "execution_count": 39,
   "metadata": {},
   "outputs": [],
   "source": [
    "query.stop()"
   ]
  },
  {
   "cell_type": "code",
   "execution_count": 40,
   "metadata": {},
   "outputs": [],
   "source": [
    "query = memory_predictions \\\n",
    "    .writeStream \\\n",
    "    .outputMode(\"append\") \\\n",
    "    .format(\"console\") \\\n",
    "    .queryName(\"memory_pred\") \\\n",
    "    .trigger(processingTime='5 seconds') \\\n",
    "    .start()"
   ]
  },
  {
   "cell_type": "code",
   "execution_count": 41,
   "metadata": {},
   "outputs": [],
   "source": [
    "query.stop()"
   ]
  },
  {
   "cell_type": "code",
   "execution_count": null,
   "metadata": {
    "scrolled": true
   },
   "outputs": [],
   "source": []
  },
  {
   "cell_type": "markdown",
   "metadata": {},
   "source": [
    "If a program in one machine,having the same “CMD” and “PID” in both process and memory streaming data, is predicted as an attack in BOTH process and memory activity prediction, then this is considered as an attack event. Find the streaming events fulfilling the criteria, create a new column to record the processing time and persist them in parquet. "
   ]
  },
  {
   "cell_type": "code",
   "execution_count": 42,
   "metadata": {},
   "outputs": [],
   "source": [
    "for_process_pred=process_predictions\n",
    "for_memory_pred=memory_predictions"
   ]
  },
  {
   "cell_type": "markdown",
   "metadata": {},
   "source": [
    "Getting the names of all the columns in both the predictions dataframes"
   ]
  },
  {
   "cell_type": "code",
   "execution_count": 43,
   "metadata": {},
   "outputs": [],
   "source": [
    "column1=for_process_pred.schema.names\n",
    "column2=for_memory_pred.schema.names"
   ]
  },
  {
   "cell_type": "markdown",
   "metadata": {},
   "source": [
    "Updating the column names for joining purposes"
   ]
  },
  {
   "cell_type": "code",
   "execution_count": 44,
   "metadata": {},
   "outputs": [],
   "source": [
    "for_process_pred=for_process_pred.select([F.col(c).alias(\"Process_\" + c) for c in column1]) #adding Process_ as a prefix"
   ]
  },
  {
   "cell_type": "code",
   "execution_count": 45,
   "metadata": {},
   "outputs": [],
   "source": [
    "for_memory_pred=for_memory_pred.select([F.col(c).alias(\"Memory_\" + c) for c in column2]) #adding Memory_ as a prefix"
   ]
  },
  {
   "cell_type": "markdown",
   "metadata": {},
   "source": [
    "Joining the two "
   ]
  },
  {
   "cell_type": "code",
   "execution_count": 46,
   "metadata": {},
   "outputs": [],
   "source": [
    "joinb = for_process_pred.join(for_memory_pred, for_process_pred.Process_CMD_PID == for_memory_pred.Memory_CMD_PID)"
   ]
  },
  {
   "cell_type": "code",
   "execution_count": 47,
   "metadata": {
    "scrolled": true
   },
   "outputs": [
    {
     "data": {
      "text/plain": [
       "['Process_sequence',\n",
       " 'Process_machine',\n",
       " 'Process_PID',\n",
       " 'Process_TRUN',\n",
       " 'Process_TSLPI',\n",
       " 'Process_TSLPU',\n",
       " 'Process_POLI',\n",
       " 'Process_NICE',\n",
       " 'Process_PRI',\n",
       " 'Process_RTPR',\n",
       " 'Process_CPUNR',\n",
       " 'Process_Status',\n",
       " 'Process_EXC',\n",
       " 'Process_State',\n",
       " 'Process_CPU',\n",
       " 'Process_CMD',\n",
       " 'Process_ts',\n",
       " 'Process_CMD_PID',\n",
       " 'Process_event_time',\n",
       " 'Process_POLI_idx',\n",
       " 'Process_Status_idx',\n",
       " 'Process_State_idx',\n",
       " 'Process_POLI_vec',\n",
       " 'Process_Status_vec',\n",
       " 'Process_State_vec',\n",
       " 'Process_tmp_CMD',\n",
       " 'Process_CMD_vec',\n",
       " 'Process_features',\n",
       " 'Process_scaled_features',\n",
       " 'Process_rawPrediction',\n",
       " 'Process_probability',\n",
       " 'Process_prediction',\n",
       " 'Memory_sequence',\n",
       " 'Memory_machine',\n",
       " 'Memory_PID',\n",
       " 'Memory_MINFLT',\n",
       " 'Memory_MAJFLT',\n",
       " 'Memory_VSTEXT',\n",
       " 'Memory_VSIZE',\n",
       " 'Memory_RSIZE',\n",
       " 'Memory_VGROW',\n",
       " 'Memory_RGROW',\n",
       " 'Memory_MEM',\n",
       " 'Memory_CMD',\n",
       " 'Memory_ts',\n",
       " 'Memory_CMD_PID',\n",
       " 'Memory_event_time',\n",
       " 'Memory_tmp_CMD',\n",
       " 'Memory_CMD_vec',\n",
       " 'Memory_features',\n",
       " 'Memory_scaled_features',\n",
       " 'Memory_rawPrediction',\n",
       " 'Memory_probability',\n",
       " 'Memory_prediction']"
      ]
     },
     "execution_count": 47,
     "metadata": {},
     "output_type": "execute_result"
    }
   ],
   "source": [
    "joinb.schema.names"
   ]
  },
  {
   "cell_type": "markdown",
   "metadata": {},
   "source": [
    "dropping unneccessary columns"
   ]
  },
  {
   "cell_type": "code",
   "execution_count": 48,
   "metadata": {},
   "outputs": [],
   "source": [
    "cols_to_drop=[\n",
    " 'Process_POLI_idx',\n",
    " 'Process_Status_idx',\n",
    " 'Process_State_idx',\n",
    " 'Process_POLI_vec',\n",
    " 'Process_Status_vec',\n",
    " 'Process_State_vec',\n",
    " 'Process_tmp_CMD',\n",
    " 'Process_CMD_vec',\n",
    " 'Process_features',\n",
    " 'Process_scaled_features',\n",
    " 'Process_rawPrediction',\n",
    " 'Process_probability',\n",
    " 'Memory_tmp_CMD',\n",
    " 'Memory_CMD_vec',\n",
    " 'Memory_features',\n",
    " 'Memory_scaled_features',\n",
    " 'Memory_rawPrediction',\n",
    " 'Memory_probability']\n",
    "joinb = joinb.drop(*cols_to_drop)"
   ]
  },
  {
   "cell_type": "markdown",
   "metadata": {},
   "source": [
    "Getting those data where both memory and process predicts attack in the same machine and CMD_PID time lag is less than 30 seconds"
   ]
  },
  {
   "cell_type": "code",
   "execution_count": 49,
   "metadata": {},
   "outputs": [],
   "source": [
    "joinb=joinb.withColumn(\"delta_time\",abs(col(\"Process_ts\")-col(\"Memory_ts\"))) #getting time difference b/w process and memory"
   ]
  },
  {
   "cell_type": "code",
   "execution_count": 50,
   "metadata": {},
   "outputs": [],
   "source": [
    "joinb=joinb.filter(col(\"Memory_Prediction\")+col(\"Process_prediction\") == 2 ) #both predictions =1"
   ]
  },
  {
   "cell_type": "code",
   "execution_count": 51,
   "metadata": {},
   "outputs": [],
   "source": [
    "joinb=joinb.filter(col(\"Process_machine\")==col(\"Memory_machine\")) #machine id equal for both\n"
   ]
  },
  {
   "cell_type": "code",
   "execution_count": 52,
   "metadata": {},
   "outputs": [],
   "source": [
    "joinb=joinb.filter(col(\"delta_time\")<30) # time difference less than 30 seconds\n",
    "#joinb=joinb.filter(col(\"delta_time\")>-30)"
   ]
  },
  {
   "cell_type": "code",
   "execution_count": 53,
   "metadata": {},
   "outputs": [],
   "source": [
    "joinb=joinb.withColumn('Processing_time', F.current_timestamp()) #adding processing time"
   ]
  },
  {
   "cell_type": "markdown",
   "metadata": {},
   "source": [
    "Viewing the output"
   ]
  },
  {
   "cell_type": "code",
   "execution_count": 54,
   "metadata": {},
   "outputs": [],
   "source": [
    "query = joinb \\\n",
    "    .writeStream \\\n",
    "    .outputMode(\"Append\") \\\n",
    "    .format(\"console\") \\\n",
    "    .trigger(processingTime='5 seconds') \\\n",
    "    .option(\"truncate\",\"false\")\\\n",
    "    .start()"
   ]
  },
  {
   "cell_type": "code",
   "execution_count": 55,
   "metadata": {},
   "outputs": [],
   "source": [
    "query.stop()"
   ]
  },
  {
   "cell_type": "markdown",
   "metadata": {},
   "source": [
    "Persisting to system memory"
   ]
  },
  {
   "cell_type": "code",
   "execution_count": 60,
   "metadata": {},
   "outputs": [],
   "source": [
    "# Write into parquet files for process and memory predictions\n",
    "process_memory_attack = joinb.writeStream.format(\"parquet\")\\\n",
    "        .outputMode(\"append\")\\\n",
    "        .option(\"path\", \"process_memory_attack.parquet\")\\\n",
    "        .option(\"checkpointLocation\", \"process_memory_attack.parquet/checkpoint\")\\\n",
    "        .start()"
   ]
  },
  {
   "cell_type": "code",
   "execution_count": 61,
   "metadata": {},
   "outputs": [],
   "source": [
    "process_memory_attack.stop()"
   ]
  },
  {
   "cell_type": "code",
   "execution_count": 62,
   "metadata": {},
   "outputs": [
    {
     "name": "stdout",
     "output_type": "stream",
     "text": [
      "root\n",
      " |-- Process_sequence: integer (nullable = true)\n",
      " |-- Process_machine: integer (nullable = true)\n",
      " |-- Process_PID: integer (nullable = true)\n",
      " |-- Process_TRUN: integer (nullable = true)\n",
      " |-- Process_TSLPI: integer (nullable = true)\n",
      " |-- Process_TSLPU: integer (nullable = true)\n",
      " |-- Process_POLI: string (nullable = true)\n",
      " |-- Process_NICE: integer (nullable = true)\n",
      " |-- Process_PRI: integer (nullable = true)\n",
      " |-- Process_RTPR: integer (nullable = true)\n",
      " |-- Process_CPUNR: integer (nullable = true)\n",
      " |-- Process_Status: string (nullable = true)\n",
      " |-- Process_EXC: integer (nullable = true)\n",
      " |-- Process_State: string (nullable = true)\n",
      " |-- Process_CPU: double (nullable = true)\n",
      " |-- Process_CMD: string (nullable = true)\n",
      " |-- Process_ts: integer (nullable = true)\n",
      " |-- Process_CMD_PID: string (nullable = true)\n",
      " |-- Process_event_time: timestamp (nullable = true)\n",
      " |-- Process_prediction: double (nullable = false)\n",
      " |-- Memory_sequence: integer (nullable = true)\n",
      " |-- Memory_machine: integer (nullable = true)\n",
      " |-- Memory_PID: integer (nullable = true)\n",
      " |-- Memory_MINFLT: integer (nullable = true)\n",
      " |-- Memory_MAJFLT: integer (nullable = true)\n",
      " |-- Memory_VSTEXT: integer (nullable = true)\n",
      " |-- Memory_VSIZE: double (nullable = true)\n",
      " |-- Memory_RSIZE: double (nullable = true)\n",
      " |-- Memory_VGROW: double (nullable = true)\n",
      " |-- Memory_RGROW: double (nullable = true)\n",
      " |-- Memory_MEM: double (nullable = true)\n",
      " |-- Memory_CMD: string (nullable = true)\n",
      " |-- Memory_ts: integer (nullable = true)\n",
      " |-- Memory_CMD_PID: string (nullable = true)\n",
      " |-- Memory_event_time: timestamp (nullable = true)\n",
      " |-- Memory_prediction: double (nullable = false)\n",
      " |-- delta_time: integer (nullable = true)\n",
      " |-- Processing_time: timestamp (nullable = false)\n",
      "\n",
      "+----------------+---------------+-----------+------------+-------------+-------------+------------+------------+-----------+------------+-------------+--------------+-----------+-------------+-----------+-----------+----------+---------------+-------------------+------------------+---------------+--------------+----------+-------------+-------------+-------------+------------+------------+------------+------------+----------+----------+----------+--------------+-------------------+-----------------+----------+--------------------+\n",
      "|Process_sequence|Process_machine|Process_PID|Process_TRUN|Process_TSLPI|Process_TSLPU|Process_POLI|Process_NICE|Process_PRI|Process_RTPR|Process_CPUNR|Process_Status|Process_EXC|Process_State|Process_CPU|Process_CMD|Process_ts|Process_CMD_PID| Process_event_time|Process_prediction|Memory_sequence|Memory_machine|Memory_PID|Memory_MINFLT|Memory_MAJFLT|Memory_VSTEXT|Memory_VSIZE|Memory_RSIZE|Memory_VGROW|Memory_RGROW|Memory_MEM|Memory_CMD| Memory_ts|Memory_CMD_PID|  Memory_event_time|Memory_prediction|delta_time|     Processing_time|\n",
      "+----------------+---------------+-----------+------------+-------------+-------------+------------+------------+-----------+------------+-------------+--------------+-----------+-------------+-----------+-----------+----------+---------------+-------------------+------------------+---------------+--------------+----------+-------------+-------------+-------------+------------+------------+------------+------------+----------+----------+----------+--------------+-------------------+-----------------+----------+--------------------+\n",
      "|             718|              6|       3144|           0|            3|            0|        norm|           0|        120|           0|            1|             0|          0|            S|       0.01|   ostinato|1604320438|  ostinato_3144|2020-11-02 12:33:58|               1.0|            529|             6|      3144|            0|            0|         2132|         2.5|     25800.0|         0.0|         0.0|      0.01|  ostinato|1604320452| ostinato_3144|2020-11-02 12:34:12|              1.0|        14|2020-11-02 12:36:...|\n",
      "|             733|              6|       3144|           0|            3|            0|        norm|           0|        120|           0|            0|             0|          0|            S|       0.01|   ostinato|1604320438|  ostinato_3144|2020-11-02 12:33:58|               1.0|            529|             6|      3144|            0|            0|         2132|         2.5|     25800.0|         0.0|         0.0|      0.01|  ostinato|1604320452| ostinato_3144|2020-11-02 12:34:12|              1.0|        14|2020-11-02 12:36:...|\n",
      "|             749|              6|       3144|           0|            3|            0|        norm|           0|        120|           0|            3|             0|          0|            S|       0.01|   ostinato|1604320443|  ostinato_3144|2020-11-02 12:34:03|               1.0|            529|             6|      3144|            0|            0|         2132|         2.5|     25800.0|         0.0|         0.0|      0.01|  ostinato|1604320452| ostinato_3144|2020-11-02 12:34:12|              1.0|         9|2020-11-02 12:36:...|\n",
      "|             769|              6|       3144|           0|            3|            0|        norm|           0|        120|           0|            1|             0|          0|            S|       0.01|   ostinato|1604320448|  ostinato_3144|2020-11-02 12:34:08|               1.0|            529|             6|      3144|            0|            0|         2132|         2.5|     25800.0|         0.0|         0.0|      0.01|  ostinato|1604320452| ostinato_3144|2020-11-02 12:34:12|              1.0|         4|2020-11-02 12:36:...|\n",
      "|             839|              6|       3144|           0|            3|            0|        norm|           0|        120|           0|            1|             0|          0|            S|       0.02|   ostinato|1604320458|  ostinato_3144|2020-11-02 12:34:18|               1.0|            529|             6|      3144|            0|            0|         2132|         2.5|     25800.0|         0.0|         0.0|      0.01|  ostinato|1604320452| ostinato_3144|2020-11-02 12:34:12|              1.0|         6|2020-11-02 12:36:...|\n",
      "|             877|              6|       3144|           0|            3|            0|        norm|           0|        120|           0|            1|             0|          0|            S|       0.01|   ostinato|1604320463|  ostinato_3144|2020-11-02 12:34:23|               1.0|            529|             6|      3144|            0|            0|         2132|         2.5|     25800.0|         0.0|         0.0|      0.01|  ostinato|1604320452| ostinato_3144|2020-11-02 12:34:12|              1.0|        11|2020-11-02 12:36:...|\n",
      "|             895|              6|       3144|           0|            3|            0|        norm|           0|        120|           0|            2|             0|          0|            S|       0.01|   ostinato|1604320468|  ostinato_3144|2020-11-02 12:34:28|               1.0|            529|             6|      3144|            0|            0|         2132|         2.5|     25800.0|         0.0|         0.0|      0.01|  ostinato|1604320452| ostinato_3144|2020-11-02 12:34:12|              1.0|        16|2020-11-02 12:36:...|\n",
      "|             902|              6|       3144|           0|            3|            0|        norm|           0|        120|           0|            1|             0|          0|            S|       0.01|   ostinato|1604320468|  ostinato_3144|2020-11-02 12:34:28|               1.0|            529|             6|      3144|            0|            0|         2132|         2.5|     25800.0|         0.0|         0.0|      0.01|  ostinato|1604320452| ostinato_3144|2020-11-02 12:34:12|              1.0|        16|2020-11-02 12:36:...|\n",
      "|             936|              6|       3144|           0|            3|            0|        norm|           0|        120|           0|            0|             0|          0|            S|       0.02|   ostinato|1604320473|  ostinato_3144|2020-11-02 12:34:33|               1.0|            529|             6|      3144|            0|            0|         2132|         2.5|     25800.0|         0.0|         0.0|      0.01|  ostinato|1604320452| ostinato_3144|2020-11-02 12:34:12|              1.0|        21|2020-11-02 12:36:...|\n",
      "|             718|              6|       3144|           0|            3|            0|        norm|           0|        120|           0|            1|             0|          0|            S|       0.01|   ostinato|1604320438|  ostinato_3144|2020-11-02 12:33:58|               1.0|            537|             6|      3144|            0|            0|         2132|         2.5|     25800.0|         0.0|         0.0|      0.01|  ostinato|1604320452| ostinato_3144|2020-11-02 12:34:12|              1.0|        14|2020-11-02 12:36:...|\n",
      "|             733|              6|       3144|           0|            3|            0|        norm|           0|        120|           0|            0|             0|          0|            S|       0.01|   ostinato|1604320438|  ostinato_3144|2020-11-02 12:33:58|               1.0|            537|             6|      3144|            0|            0|         2132|         2.5|     25800.0|         0.0|         0.0|      0.01|  ostinato|1604320452| ostinato_3144|2020-11-02 12:34:12|              1.0|        14|2020-11-02 12:36:...|\n",
      "|             749|              6|       3144|           0|            3|            0|        norm|           0|        120|           0|            3|             0|          0|            S|       0.01|   ostinato|1604320443|  ostinato_3144|2020-11-02 12:34:03|               1.0|            537|             6|      3144|            0|            0|         2132|         2.5|     25800.0|         0.0|         0.0|      0.01|  ostinato|1604320452| ostinato_3144|2020-11-02 12:34:12|              1.0|         9|2020-11-02 12:36:...|\n",
      "|             769|              6|       3144|           0|            3|            0|        norm|           0|        120|           0|            1|             0|          0|            S|       0.01|   ostinato|1604320448|  ostinato_3144|2020-11-02 12:34:08|               1.0|            537|             6|      3144|            0|            0|         2132|         2.5|     25800.0|         0.0|         0.0|      0.01|  ostinato|1604320452| ostinato_3144|2020-11-02 12:34:12|              1.0|         4|2020-11-02 12:36:...|\n",
      "|             839|              6|       3144|           0|            3|            0|        norm|           0|        120|           0|            1|             0|          0|            S|       0.02|   ostinato|1604320458|  ostinato_3144|2020-11-02 12:34:18|               1.0|            537|             6|      3144|            0|            0|         2132|         2.5|     25800.0|         0.0|         0.0|      0.01|  ostinato|1604320452| ostinato_3144|2020-11-02 12:34:12|              1.0|         6|2020-11-02 12:36:...|\n",
      "|             877|              6|       3144|           0|            3|            0|        norm|           0|        120|           0|            1|             0|          0|            S|       0.01|   ostinato|1604320463|  ostinato_3144|2020-11-02 12:34:23|               1.0|            537|             6|      3144|            0|            0|         2132|         2.5|     25800.0|         0.0|         0.0|      0.01|  ostinato|1604320452| ostinato_3144|2020-11-02 12:34:12|              1.0|        11|2020-11-02 12:36:...|\n",
      "|             895|              6|       3144|           0|            3|            0|        norm|           0|        120|           0|            2|             0|          0|            S|       0.01|   ostinato|1604320468|  ostinato_3144|2020-11-02 12:34:28|               1.0|            537|             6|      3144|            0|            0|         2132|         2.5|     25800.0|         0.0|         0.0|      0.01|  ostinato|1604320452| ostinato_3144|2020-11-02 12:34:12|              1.0|        16|2020-11-02 12:36:...|\n",
      "|             902|              6|       3144|           0|            3|            0|        norm|           0|        120|           0|            1|             0|          0|            S|       0.01|   ostinato|1604320468|  ostinato_3144|2020-11-02 12:34:28|               1.0|            537|             6|      3144|            0|            0|         2132|         2.5|     25800.0|         0.0|         0.0|      0.01|  ostinato|1604320452| ostinato_3144|2020-11-02 12:34:12|              1.0|        16|2020-11-02 12:36:...|\n",
      "|             936|              6|       3144|           0|            3|            0|        norm|           0|        120|           0|            0|             0|          0|            S|       0.02|   ostinato|1604320473|  ostinato_3144|2020-11-02 12:34:33|               1.0|            537|             6|      3144|            0|            0|         2132|         2.5|     25800.0|         0.0|         0.0|      0.01|  ostinato|1604320452| ostinato_3144|2020-11-02 12:34:12|              1.0|        21|2020-11-02 12:36:...|\n",
      "|             749|              6|       3144|           0|            3|            0|        norm|           0|        120|           0|            3|             0|          0|            S|       0.01|   ostinato|1604320443|  ostinato_3144|2020-11-02 12:34:03|               1.0|            586|             6|      3144|            0|            0|         2132|         2.5|     25800.0|         0.0|         0.0|      0.01|  ostinato|1604320472| ostinato_3144|2020-11-02 12:34:32|              1.0|        29|2020-11-02 12:36:...|\n",
      "|             769|              6|       3144|           0|            3|            0|        norm|           0|        120|           0|            1|             0|          0|            S|       0.01|   ostinato|1604320448|  ostinato_3144|2020-11-02 12:34:08|               1.0|            586|             6|      3144|            0|            0|         2132|         2.5|     25800.0|         0.0|         0.0|      0.01|  ostinato|1604320472| ostinato_3144|2020-11-02 12:34:32|              1.0|        24|2020-11-02 12:36:...|\n",
      "+----------------+---------------+-----------+------------+-------------+-------------+------------+------------+-----------+------------+-------------+--------------+-----------+-------------+-----------+-----------+----------+---------------+-------------------+------------------+---------------+--------------+----------+-------------+-------------+-------------+------------+------------+------------+------------+----------+----------+----------+--------------+-------------------+-----------------+----------+--------------------+\n",
      "only showing top 20 rows\n",
      "\n"
     ]
    }
   ],
   "source": [
    "# Read the saved parquet data for process\n",
    "process_memory_attack = spark.read.parquet(\"process_memory_attack.parquet\")\n",
    "process_memory_attack.printSchema()\n",
    "process_memory_attack.show()"
   ]
  },
  {
   "cell_type": "code",
   "execution_count": null,
   "metadata": {},
   "outputs": [],
   "source": []
  },
  {
   "cell_type": "code",
   "execution_count": null,
   "metadata": {},
   "outputs": [],
   "source": []
  }
 ],
 "metadata": {
  "kernelspec": {
   "display_name": "Python 3",
   "language": "python",
   "name": "python3"
  },
  "language_info": {
   "codemirror_mode": {
    "name": "ipython",
    "version": 3
   },
   "file_extension": ".py",
   "mimetype": "text/x-python",
   "name": "python",
   "nbconvert_exporter": "python",
   "pygments_lexer": "ipython3",
   "version": "3.8.2"
  }
 },
 "nbformat": 4,
 "nbformat_minor": 4
}
